{
 "cells": [
  {
   "cell_type": "markdown",
   "id": "61670308",
   "metadata": {},
   "source": [
    "**Project Title: Patient Symptom Checker**\n",
    "\n",
    "**Project Overview:**\n",
    "\n",
    "This project will create a patient symptom checker in Python that helps users input symptoms and receive general health advice or potential conditions. It is beginner-friendly and introduces basic programming concepts like control flow (e.x. conditional statement (`if`, `else`), loop (`for`, `while`), functions and return statements), user input, and file handling.\n",
    "\n",
    "**Main Objectives:**\n",
    "\n",
    "\t•\tLearn and practice basic Python skills.\n",
    "\t•\tInput/Output (I/O) operations for receiving user input.\n",
    "\t•\tData structures like lists and dictionaries for storing symptom-condition mappings (e.x. the `key`is the symptom, the `value` is a list of possible conditions related to the symptom)\n",
    "\t•\tConditional logic for symptom checking.\n",
    "\t•\tBasic file handling for storing and updating patient information (may be optional).\n",
    "\n",
    "**Required Libraries:**\n",
    "\n",
    "\t•\tStandard libraries:\n",
    "\t•\tcsv for storing symptom-condition mappings or user data.\n",
    "\n",
    "**Project Steps or Features:**\n",
    "\n",
    "1. Symptom Input:\n",
    "- Users input their symptoms into the system.\n",
    "2. Match the Symptoms:\n",
    "- The program checks against a set of symptoms (already defined) stored in a dictionary to suggest potential conditions (simple if-else or dictionary lookup).\n",
    "3. Output (giving advice):\n",
    "- Based on the symptoms, the program outputs health advice or next steps (e.x., “Consult a doctor,” “Stay hydrated,” etc.).\n",
    "4. File Handling (may be optional):\n",
    "- Save patient data (name, age, symptoms, etc.) into a file (such as CSV) for future reference.\n",
    "5. Data Visualization (may be optional): \n",
    "- To visualize the frequency of common symptoms over time.\n",
    "\n",
    "**Future Applications:**\n",
    "\n",
    "This project may serve as a foundation for more advanced healthcare applications, such as integrating machine learning for symptom analysis or extending the project to include an electronic health record.\n",
    "\n",
    "This project could lead into the topic of machine learning to predict conditions based on symptom data. "
   ]
  },
  {
   "cell_type": "code",
   "execution_count": null,
   "id": "7ac4eda3",
   "metadata": {},
   "outputs": [],
   "source": []
  }
 ],
 "metadata": {
  "kernelspec": {
   "display_name": "Python 3 (ipykernel)",
   "language": "python",
   "name": "python3"
  },
  "language_info": {
   "codemirror_mode": {
    "name": "ipython",
    "version": 3
   },
   "file_extension": ".py",
   "mimetype": "text/x-python",
   "name": "python",
   "nbconvert_exporter": "python",
   "pygments_lexer": "ipython3",
   "version": "3.11.6"
  }
 },
 "nbformat": 4,
 "nbformat_minor": 5
}
